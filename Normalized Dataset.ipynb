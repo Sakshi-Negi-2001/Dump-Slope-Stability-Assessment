{
 "cells": [
  {
   "cell_type": "code",
   "execution_count": 1,
   "id": "abd9f97f",
   "metadata": {
    "id": "AVv6p-rh0SB5"
   },
   "outputs": [],
   "source": [
    "import pandas as pd\n",
    "from sklearn.model_selection import train_test_split\n",
    "from sklearn.metrics import mean_squared_log_error, mean_squared_error\n",
    "from sklearn.metrics import r2_score, mean_absolute_error\n",
    "from math import sqrt\n",
    "from sklearn.preprocessing import MinMaxScaler\n",
    "import numpy as np\n",
    "import matplotlib as plt"
   ]
  },
  {
   "cell_type": "code",
   "execution_count": 2,
   "id": "5c9f14f1",
   "metadata": {
    "id": "_f6POeP20SB8"
   },
   "outputs": [],
   "source": [
    "data2 = pd.read_csv(\"C:\\\\Users\\DITU\\Downloads\\Static4.csv\",encoding= 'unicode_escape')\n",
    "val = pd.read_csv(\"C:\\\\Users\\DITU\\Downloads\\Vall.csv\",encoding= 'unicode_escape')"
   ]
  },
  {
   "cell_type": "code",
   "execution_count": 3,
   "id": "8d3f309d",
   "metadata": {},
   "outputs": [
    {
     "data": {
      "text/plain": [
       "DAS    0.481522\n",
       "FOS    0.300000\n",
       "ODH    0.261957\n",
       "DE     0.157609\n",
       "CO     0.042391\n",
       "FA     0.020652\n",
       "dtype: float64"
      ]
     },
     "execution_count": 3,
     "metadata": {},
     "output_type": "execute_result"
    }
   ],
   "source": [
    "data2.describe()\n",
    "data2.isnull().sum().sort_values(ascending=False)/data2.shape[0]"
   ]
  },
  {
   "cell_type": "code",
   "execution_count": 4,
   "id": "b1480c8a",
   "metadata": {},
   "outputs": [
    {
     "data": {
      "text/html": [
       "<div>\n",
       "<style scoped>\n",
       "    .dataframe tbody tr th:only-of-type {\n",
       "        vertical-align: middle;\n",
       "    }\n",
       "\n",
       "    .dataframe tbody tr th {\n",
       "        vertical-align: top;\n",
       "    }\n",
       "\n",
       "    .dataframe thead th {\n",
       "        text-align: right;\n",
       "    }\n",
       "</style>\n",
       "<table border=\"1\" class=\"dataframe\">\n",
       "  <thead>\n",
       "    <tr style=\"text-align: right;\">\n",
       "      <th></th>\n",
       "      <th>DE</th>\n",
       "      <th>CO</th>\n",
       "      <th>FA</th>\n",
       "      <th>ODH</th>\n",
       "      <th>DAS</th>\n",
       "      <th>FOS</th>\n",
       "    </tr>\n",
       "  </thead>\n",
       "  <tbody>\n",
       "    <tr>\n",
       "      <th>0</th>\n",
       "      <td>1800</td>\n",
       "      <td>10.0</td>\n",
       "      <td>20.0</td>\n",
       "      <td>60.0</td>\n",
       "      <td>38.0</td>\n",
       "      <td>1.64</td>\n",
       "    </tr>\n",
       "    <tr>\n",
       "      <th>1</th>\n",
       "      <td>1800</td>\n",
       "      <td>20.0</td>\n",
       "      <td>20.0</td>\n",
       "      <td>60.0</td>\n",
       "      <td>38.0</td>\n",
       "      <td>1.65</td>\n",
       "    </tr>\n",
       "    <tr>\n",
       "      <th>2</th>\n",
       "      <td>1800</td>\n",
       "      <td>30.0</td>\n",
       "      <td>20.0</td>\n",
       "      <td>60.0</td>\n",
       "      <td>38.0</td>\n",
       "      <td>1.69</td>\n",
       "    </tr>\n",
       "    <tr>\n",
       "      <th>3</th>\n",
       "      <td>1800</td>\n",
       "      <td>10.0</td>\n",
       "      <td>25.0</td>\n",
       "      <td>60.0</td>\n",
       "      <td>38.0</td>\n",
       "      <td>1.65</td>\n",
       "    </tr>\n",
       "    <tr>\n",
       "      <th>4</th>\n",
       "      <td>1800</td>\n",
       "      <td>20.0</td>\n",
       "      <td>25.0</td>\n",
       "      <td>60.0</td>\n",
       "      <td>38.0</td>\n",
       "      <td>1.69</td>\n",
       "    </tr>\n",
       "  </tbody>\n",
       "</table>\n",
       "</div>"
      ],
      "text/plain": [
       "     DE    CO    FA   ODH   DAS   FOS\n",
       "0  1800  10.0  20.0  60.0  38.0  1.64\n",
       "1  1800  20.0  20.0  60.0  38.0  1.65\n",
       "2  1800  30.0  20.0  60.0  38.0  1.69\n",
       "3  1800  10.0  25.0  60.0  38.0  1.65\n",
       "4  1800  20.0  25.0  60.0  38.0  1.69"
      ]
     },
     "execution_count": 4,
     "metadata": {},
     "output_type": "execute_result"
    }
   ],
   "source": [
    "data2.head()"
   ]
  },
  {
   "cell_type": "code",
   "execution_count": 5,
   "id": "7ef8c214",
   "metadata": {},
   "outputs": [
    {
     "data": {
      "text/plain": [
       "920"
      ]
     },
     "execution_count": 5,
     "metadata": {},
     "output_type": "execute_result"
    }
   ],
   "source": [
    "len(data2)"
   ]
  },
  {
   "cell_type": "code",
   "execution_count": 6,
   "id": "487f2456",
   "metadata": {},
   "outputs": [
    {
     "name": "stdout",
     "output_type": "stream",
     "text": [
      "<class 'pandas.core.frame.DataFrame'>\n",
      "RangeIndex: 920 entries, 0 to 919\n",
      "Data columns (total 6 columns):\n",
      "DE     774 non-null float64\n",
      "CO     881 non-null float64\n",
      "FA     901 non-null float64\n",
      "ODH    679 non-null float64\n",
      "DAS    477 non-null float64\n",
      "FOS    644 non-null float64\n",
      "dtypes: float64(6)\n",
      "memory usage: 43.2 KB\n",
      "None\n"
     ]
    }
   ],
   "source": [
    "data2['DE'] = pd.to_numeric(data2['DE'],errors = 'coerce')\n",
    "print(data2.info())"
   ]
  },
  {
   "cell_type": "code",
   "execution_count": 7,
   "id": "b8e8cc58",
   "metadata": {},
   "outputs": [],
   "source": [
    "data2 = data2.reset_index(drop=True)"
   ]
  },
  {
   "cell_type": "code",
   "execution_count": 8,
   "id": "37d2897d",
   "metadata": {},
   "outputs": [],
   "source": [
    "data2= data2.dropna()"
   ]
  },
  {
   "cell_type": "code",
   "execution_count": 9,
   "id": "17d5ebd5",
   "metadata": {},
   "outputs": [
    {
     "data": {
      "text/plain": [
       "312"
      ]
     },
     "execution_count": 9,
     "metadata": {},
     "output_type": "execute_result"
    }
   ],
   "source": [
    "len(data2)"
   ]
  },
  {
   "cell_type": "code",
   "execution_count": 10,
   "id": "5551892b",
   "metadata": {},
   "outputs": [],
   "source": [
    "data2 = pd.get_dummies(data2)"
   ]
  },
  {
   "cell_type": "code",
   "execution_count": 11,
   "id": "86aeceb2",
   "metadata": {},
   "outputs": [
    {
     "data": {
      "text/html": [
       "<div>\n",
       "<style scoped>\n",
       "    .dataframe tbody tr th:only-of-type {\n",
       "        vertical-align: middle;\n",
       "    }\n",
       "\n",
       "    .dataframe tbody tr th {\n",
       "        vertical-align: top;\n",
       "    }\n",
       "\n",
       "    .dataframe thead th {\n",
       "        text-align: right;\n",
       "    }\n",
       "</style>\n",
       "<table border=\"1\" class=\"dataframe\">\n",
       "  <thead>\n",
       "    <tr style=\"text-align: right;\">\n",
       "      <th></th>\n",
       "      <th>DE</th>\n",
       "      <th>CO</th>\n",
       "      <th>FA</th>\n",
       "      <th>ODH</th>\n",
       "      <th>DAS</th>\n",
       "      <th>FOS</th>\n",
       "    </tr>\n",
       "  </thead>\n",
       "  <tbody>\n",
       "    <tr>\n",
       "      <th>0</th>\n",
       "      <td>1800.0</td>\n",
       "      <td>10.0</td>\n",
       "      <td>20.0</td>\n",
       "      <td>60.0</td>\n",
       "      <td>38.0</td>\n",
       "      <td>1.64</td>\n",
       "    </tr>\n",
       "    <tr>\n",
       "      <th>1</th>\n",
       "      <td>1800.0</td>\n",
       "      <td>20.0</td>\n",
       "      <td>20.0</td>\n",
       "      <td>60.0</td>\n",
       "      <td>38.0</td>\n",
       "      <td>1.65</td>\n",
       "    </tr>\n",
       "    <tr>\n",
       "      <th>2</th>\n",
       "      <td>1800.0</td>\n",
       "      <td>30.0</td>\n",
       "      <td>20.0</td>\n",
       "      <td>60.0</td>\n",
       "      <td>38.0</td>\n",
       "      <td>1.69</td>\n",
       "    </tr>\n",
       "    <tr>\n",
       "      <th>3</th>\n",
       "      <td>1800.0</td>\n",
       "      <td>10.0</td>\n",
       "      <td>25.0</td>\n",
       "      <td>60.0</td>\n",
       "      <td>38.0</td>\n",
       "      <td>1.65</td>\n",
       "    </tr>\n",
       "    <tr>\n",
       "      <th>4</th>\n",
       "      <td>1800.0</td>\n",
       "      <td>20.0</td>\n",
       "      <td>25.0</td>\n",
       "      <td>60.0</td>\n",
       "      <td>38.0</td>\n",
       "      <td>1.69</td>\n",
       "    </tr>\n",
       "    <tr>\n",
       "      <th>5</th>\n",
       "      <td>1800.0</td>\n",
       "      <td>30.0</td>\n",
       "      <td>25.0</td>\n",
       "      <td>60.0</td>\n",
       "      <td>38.0</td>\n",
       "      <td>1.69</td>\n",
       "    </tr>\n",
       "    <tr>\n",
       "      <th>6</th>\n",
       "      <td>1800.0</td>\n",
       "      <td>10.0</td>\n",
       "      <td>29.0</td>\n",
       "      <td>60.0</td>\n",
       "      <td>38.0</td>\n",
       "      <td>1.69</td>\n",
       "    </tr>\n",
       "    <tr>\n",
       "      <th>7</th>\n",
       "      <td>1800.0</td>\n",
       "      <td>20.0</td>\n",
       "      <td>29.0</td>\n",
       "      <td>60.0</td>\n",
       "      <td>38.0</td>\n",
       "      <td>1.69</td>\n",
       "    </tr>\n",
       "    <tr>\n",
       "      <th>8</th>\n",
       "      <td>1800.0</td>\n",
       "      <td>30.0</td>\n",
       "      <td>29.0</td>\n",
       "      <td>60.0</td>\n",
       "      <td>38.0</td>\n",
       "      <td>1.69</td>\n",
       "    </tr>\n",
       "    <tr>\n",
       "      <th>9</th>\n",
       "      <td>1800.0</td>\n",
       "      <td>10.0</td>\n",
       "      <td>20.0</td>\n",
       "      <td>90.0</td>\n",
       "      <td>38.0</td>\n",
       "      <td>1.56</td>\n",
       "    </tr>\n",
       "  </tbody>\n",
       "</table>\n",
       "</div>"
      ],
      "text/plain": [
       "       DE    CO    FA   ODH   DAS   FOS\n",
       "0  1800.0  10.0  20.0  60.0  38.0  1.64\n",
       "1  1800.0  20.0  20.0  60.0  38.0  1.65\n",
       "2  1800.0  30.0  20.0  60.0  38.0  1.69\n",
       "3  1800.0  10.0  25.0  60.0  38.0  1.65\n",
       "4  1800.0  20.0  25.0  60.0  38.0  1.69\n",
       "5  1800.0  30.0  25.0  60.0  38.0  1.69\n",
       "6  1800.0  10.0  29.0  60.0  38.0  1.69\n",
       "7  1800.0  20.0  29.0  60.0  38.0  1.69\n",
       "8  1800.0  30.0  29.0  60.0  38.0  1.69\n",
       "9  1800.0  10.0  20.0  90.0  38.0  1.56"
      ]
     },
     "execution_count": 11,
     "metadata": {},
     "output_type": "execute_result"
    }
   ],
   "source": [
    "data2.iloc[0:,:6].head(10)"
   ]
  },
  {
   "cell_type": "code",
   "execution_count": 12,
   "id": "307ffc4d",
   "metadata": {},
   "outputs": [],
   "source": [
    "data2.drop(data2.iloc[:, 6:], inplace=True, axis=1)"
   ]
  },
  {
   "cell_type": "code",
   "execution_count": 13,
   "id": "9dcaf23d",
   "metadata": {},
   "outputs": [
    {
     "data": {
      "text/plain": [
       "(312, 6)"
      ]
     },
     "execution_count": 13,
     "metadata": {},
     "output_type": "execute_result"
    }
   ],
   "source": [
    "data2.shape"
   ]
  },
  {
   "cell_type": "code",
   "execution_count": 14,
   "id": "49e95311",
   "metadata": {
    "id": "KhEESsuA0SB_",
    "outputId": "226c070b-2641-4f82-fc26-c9321c96782c"
   },
   "outputs": [
    {
     "data": {
      "text/plain": [
       "DE     0\n",
       "CO     0\n",
       "FA     0\n",
       "ODH    0\n",
       "DAS    0\n",
       "FOS    0\n",
       "dtype: int64"
      ]
     },
     "execution_count": 14,
     "metadata": {},
     "output_type": "execute_result"
    }
   ],
   "source": [
    "data2.isnull().sum()"
   ]
  },
  {
   "cell_type": "code",
   "execution_count": 15,
   "id": "447553fb",
   "metadata": {},
   "outputs": [],
   "source": [
    " data2['DE']=(data2['DE']-data2['DE'].min())/(data2['DE'].max()-data2['DE'].min())"
   ]
  },
  {
   "cell_type": "code",
   "execution_count": 16,
   "id": "cdd988db",
   "metadata": {},
   "outputs": [],
   "source": [
    "data2['CO']=(data2['CO']-data2['CO'].min())/(data2['CO'].max()-data2['CO'].min())"
   ]
  },
  {
   "cell_type": "code",
   "execution_count": 17,
   "id": "6eca50bd",
   "metadata": {},
   "outputs": [],
   "source": [
    "data2['FA']=(data2['FA']-data2['FA'].min())/(data2['FA'].max()-data2['FA'].min())"
   ]
  },
  {
   "cell_type": "code",
   "execution_count": 18,
   "id": "23623988",
   "metadata": {},
   "outputs": [],
   "source": [
    "data2['ODH']=(data2['ODH']-data2['ODH'].min())/(data2['ODH'].max()-data2['ODH'].min())"
   ]
  },
  {
   "cell_type": "code",
   "execution_count": 19,
   "id": "1b56fd1d",
   "metadata": {},
   "outputs": [],
   "source": [
    "data2['DAS']=(data2['DAS']-data2['DAS'].min())/(data2['DAS'].max()-data2['DAS'].min())"
   ]
  },
  {
   "cell_type": "code",
   "execution_count": 20,
   "id": "7ac5e76e",
   "metadata": {},
   "outputs": [],
   "source": [
    "data2['FOS']=(data2['FOS']-data2['FOS'].min())/(data2['FOS'].max()-data2['FOS'].min())"
   ]
  },
  {
   "cell_type": "code",
   "execution_count": 21,
   "id": "f1aa3209",
   "metadata": {
    "id": "0aV4PelK0SCA"
   },
   "outputs": [],
   "source": [
    "labels = np.array(data2['FOS'])\n",
    "data2= data2.drop('FOS', axis = 1)\n",
    "val= val.drop('FOS', axis=1)\n",
    "feature_list = list(data2.columns)\n",
    "data2 = np.array(data2)"
   ]
  },
  {
   "cell_type": "code",
   "execution_count": 22,
   "id": "f6bb9673",
   "metadata": {
    "id": "C4OAZbtR0SCA",
    "outputId": "01da693d-ddfc-4c9f-b41e-530445884e31"
   },
   "outputs": [
    {
     "name": "stdout",
     "output_type": "stream",
     "text": [
      "(249, 5) (249,)\n",
      "(63, 5) (63,)\n"
     ]
    }
   ],
   "source": [
    "X_train, X_test, y_train, y_test = train_test_split(data2, labels, test_size=0.2)\n",
    "print (X_train.shape, y_train.shape)\n",
    "print (X_test.shape, y_test.shape)"
   ]
  },
  {
   "cell_type": "markdown",
   "id": "b7b01d26",
   "metadata": {
    "id": "LVHngZZ-0SCA"
   },
   "source": [
    "# Gradient Boosting"
   ]
  },
  {
   "cell_type": "code",
   "execution_count": 23,
   "id": "37750d26",
   "metadata": {
    "id": "IcJW7X2t0SCB"
   },
   "outputs": [],
   "source": [
    "from sklearn.ensemble import GradientBoostingRegressor\n",
    "from sklearn import metrics\n",
    "\n",
    "gb = GradientBoostingRegressor(n_estimators=30, max_depth =2)\n",
    "\n",
    "gb.fit(X_train, y_train)\n",
    "y_pred = gb.predict(X_test)"
   ]
  },
  {
   "cell_type": "code",
   "execution_count": 24,
   "id": "4e67eeb3",
   "metadata": {
    "id": "Op9jZ5-t0SCB",
    "outputId": "4d9004a0-2124-4c9e-fb2b-311d67df5818"
   },
   "outputs": [
    {
     "data": {
      "text/plain": [
       "array([0.26925688, 0.26925688, 0.26925688])"
      ]
     },
     "execution_count": 24,
     "metadata": {},
     "output_type": "execute_result"
    }
   ],
   "source": [
    "gb.predict(val)"
   ]
  },
  {
   "cell_type": "code",
   "execution_count": 25,
   "id": "ca343f83",
   "metadata": {
    "id": "Mz4xDSzu0SCB",
    "outputId": "061d8517-eaae-4cad-d99c-be32e15db297"
   },
   "outputs": [
    {
     "name": "stdout",
     "output_type": "stream",
     "text": [
      "Mean Absolute Error: 0.07786991967345062\n",
      "Mean Squared Error: 0.024926310735580205\n",
      "R2 Score: 0.031239076323319126\n",
      "Root mean square error: 0.15788068512512923\n"
     ]
    }
   ],
   "source": [
    "mae_gb = mean_absolute_error(y_test, y_pred)\n",
    "mse_gb = mean_squared_error(y_test, y_pred)\n",
    "r2_gb = r2_score(y_test, y_pred)\n",
    "rmse_gb = sqrt(mean_squared_error(y_test, y_pred))\n",
    "\n",
    "print('Mean Absolute Error:', mae_gb)  \n",
    "print('Mean Squared Error:', mse_gb)\n",
    "print('R2 Score:',  r2_gb)  \n",
    "print('Root mean square error:',  rmse_gb)"
   ]
  },
  {
   "cell_type": "code",
   "execution_count": 47,
   "id": "baa14af3",
   "metadata": {
    "id": "fxczctPH0SCB",
    "outputId": "e6733daf-039c-4ec8-ec5e-2a88509ef38a"
   },
   "outputs": [
    {
     "data": {
      "image/png": "[encoded data removed]",
      "text/plain": [
       "<Figure size 360x360 with 1 Axes>"
      ]
     },
     "metadata": {
      "needs_background": "light"
     },
     "output_type": "display_data"
    }
   ],
   "source": [
    "import matplotlib.pyplot as plt\n",
    " \n",
    "data ={'MAE':mae_gb, 'MSE':mse_gb, 'R2 Score': r2_gb, 'RMSE': rmse_gb}\n",
    "key_gb = list(data.keys())\n",
    "val_gb = list(data.values())\n",
    "\n",
    "fig = plt.figure(figsize = (5, 5))\n",
    "\n",
    "ax = plt.subplot(111)\n",
    "ax.bar(key_gb, val_gb, width=0.5,edgecolor = \"black\", color ='cyan')\n",
    "\n",
    "plt.xlabel(\"Evaluation Metrics\",fontweight=\"bold\" )\n",
    "plt.ylabel(\"Values\", fontweight=\"bold\")\n",
    "plt.title(\"Gradient Boosting Algorithm\", fontweight=\"bold\")\n",
    "plt.show()"
   ]
  },
  {
   "cell_type": "markdown",
   "id": "6d0f7161",
   "metadata": {
    "id": "ou1byfGp0SCC"
   },
   "source": [
    "# Random Forest"
   ]
  },
  {
   "cell_type": "code",
   "execution_count": 27,
   "id": "e3f021fe",
   "metadata": {
    "id": "SIK1q1400SCC"
   },
   "outputs": [],
   "source": [
    "from sklearn.ensemble import RandomForestRegressor\n",
    "\n",
    "forest = RandomForestRegressor(n_estimators=180, min_samples_split=6)\n",
    "\n",
    "\n",
    "forest.fit(X_train, y_train)\n",
    "y_pred = forest.predict(X_test)"
   ]
  },
  {
   "cell_type": "code",
   "execution_count": 28,
   "id": "f642ebff",
   "metadata": {
    "executionInfo": {
     "elapsed": 11,
     "status": "aborted",
     "timestamp": 1679295629211,
     "user": {
      "displayName": "Sakshi Negi",
      "userId": "18392845518210690948"
     },
     "user_tz": -330
    },
    "id": "tdPqo1LC0SCC",
    "outputId": "2338435d-8d4e-446b-b668-d0c54bc365c6"
   },
   "outputs": [
    {
     "data": {
      "text/plain": [
       "array([0.21251419, 0.21251419, 0.21251419])"
      ]
     },
     "execution_count": 28,
     "metadata": {},
     "output_type": "execute_result"
    }
   ],
   "source": [
    "forest.predict(val)"
   ]
  },
  {
   "cell_type": "code",
   "execution_count": 29,
   "id": "e0100e66",
   "metadata": {
    "id": "aiVXk3O20SCC",
    "outputId": "bfdbfe9a-429c-469d-cd76-9f9f62aba10e"
   },
   "outputs": [
    {
     "name": "stdout",
     "output_type": "stream",
     "text": [
      "Mean Absolute Error: 0.08175381187040734\n",
      "Mean Squared Error: 0.031191884059295242\n",
      "R2 Score: -0.21227239494234085\n",
      "Root mean square error: 0.17661224209916832\n"
     ]
    }
   ],
   "source": [
    "mae_rf = mean_absolute_error(y_test, y_pred)\n",
    "mse_rf = mean_squared_error(y_test, y_pred)\n",
    "r2_rf = r2_score(y_test, y_pred)\n",
    "rmse_rf = sqrt(mean_squared_error(y_test, y_pred))\n",
    "\n",
    "print('Mean Absolute Error:', mae_rf)  \n",
    "print('Mean Squared Error:',mse_rf)\n",
    "print('R2 Score:', r2_rf)  \n",
    "print('Root mean square error:',  rmse_rf)"
   ]
  },
  {
   "cell_type": "code",
   "execution_count": 30,
   "id": "4cbfc286",
   "metadata": {
    "id": "GweGCfw50SCC",
    "outputId": "1c51bcf8-403a-4a55-af36-c1d37cab414a"
   },
   "outputs": [
    {
     "data": {
      "image/png": "[encoded data removed]",
      "text/plain": [
       "<Figure size 360x360 with 1 Axes>"
      ]
     },
     "metadata": {
      "needs_background": "light"
     },
     "output_type": "display_data"
    }
   ],
   "source": [
    "import matplotlib.pyplot as plt\n",
    " \n",
    "data ={'MAE':mae_rf, 'MSE':mse_rf, 'R2 Score': r2_rf, 'RMSE': rmse_rf}\n",
    "data1 ={'MAE':0, 'MSE':0, 'R2 Score': r2_rf, 'RMSE':0}\n",
    "key_rf = list(data.keys())\n",
    "val_rf = list(data.values())\n",
    "key_rf1 = list(data1.keys())\n",
    "val_rf1 = list(data1.values())\n",
    "\n",
    "fig = plt.figure(figsize = (5, 5))\n",
    "\n",
    "ax = plt.subplot(111)\n",
    "ax.bar(key_rf, val_rf, width=0.5,edgecolor = \"black\", color ='cyan')\n",
    "ax.bar(key_rf1,val_rf1,width=0.5, edgecolor=\"black\", color ='green')\n",
    "\n",
    "plt.xlabel(\"Evaluation Metrics\",fontweight=\"bold\" )\n",
    "plt.ylabel(\"Values\", fontweight=\"bold\")\n",
    "plt.title(\"Random Forest Algorithm\", fontweight=\"bold\")\n",
    "plt.show()"
   ]
  },
  {
   "cell_type": "markdown",
   "id": "24ae5913",
   "metadata": {
    "id": "nZdFtkEu0SCD"
   },
   "source": [
    "# Bagging regressor"
   ]
  },
  {
   "cell_type": "code",
   "execution_count": 31,
   "id": "6680941f",
   "metadata": {
    "id": "uDILU7uA0SCD"
   },
   "outputs": [],
   "source": [
    "from sklearn.ensemble import BaggingRegressor\n",
    "\n",
    "br = BaggingRegressor(n_estimators=10)\n",
    "\n",
    "\n",
    "br.fit(X_train, y_train)\n",
    "y_pred = br.predict(X_test)"
   ]
  },
  {
   "cell_type": "code",
   "execution_count": 32,
   "id": "69a7193d",
   "metadata": {
    "id": "-xFRfsB90SCD",
    "outputId": "02f28d96-563a-4994-92c5-c00ac08171bc"
   },
   "outputs": [
    {
     "data": {
      "text/plain": [
       "array([0.30641639, 0.30641639, 0.30641639])"
      ]
     },
     "execution_count": 32,
     "metadata": {},
     "output_type": "execute_result"
    }
   ],
   "source": [
    "br.predict(val)"
   ]
  },
  {
   "cell_type": "code",
   "execution_count": 33,
   "id": "3f085ae5",
   "metadata": {
    "id": "hgtszZG60SCD",
    "outputId": "11620c13-a0bb-4c79-b654-c572e6765c04"
   },
   "outputs": [
    {
     "name": "stdout",
     "output_type": "stream",
     "text": [
      "Mean Absolute Error: 0.08516712781141966\n",
      "Mean Squared Error: 0.03384173647742812\n",
      "R2 Score: -0.3152588939645573\n",
      "Root mean square error: 0.1839612363445846\n"
     ]
    }
   ],
   "source": [
    "mae_br = mean_absolute_error(y_test, y_pred)\n",
    "mse_br = mean_squared_error(y_test, y_pred)\n",
    "r2_br = r2_score(y_test, y_pred)\n",
    "rmse_br = sqrt(mean_squared_error(y_test, y_pred))\n",
    "\n",
    "print('Mean Absolute Error:', mae_br)  \n",
    "print('Mean Squared Error:',mse_br)\n",
    "print('R2 Score:', r2_br)  \n",
    "print('Root mean square error:',  rmse_br)"
   ]
  },
  {
   "cell_type": "code",
   "execution_count": 34,
   "id": "a361ac65",
   "metadata": {
    "id": "PHjf759v0SCD",
    "outputId": "dfdd250f-916a-49f3-f62c-9ad71407a7e6"
   },
   "outputs": [
    {
     "data": {
      "image/png": "[encoded data removed]",
      "text/plain": [
       "<Figure size 360x360 with 1 Axes>"
      ]
     },
     "metadata": {
      "needs_background": "light"
     },
     "output_type": "display_data"
    }
   ],
   "source": [
    "import matplotlib.pyplot as plt\n",
    " \n",
    "data ={'MAE':mae_br, 'MSE':mse_br, 'R2 Score': 0, 'RMSE': rmse_br}\n",
    "data1 ={'MAE':0, 'MSE':0, 'R2 Score': r2_br, 'RMSE':0}\n",
    "key_br = list(data.keys())\n",
    "val_br = list(data.values())\n",
    "key_br1 = list(data1.keys())\n",
    "val_br1 = list(data1.values())\n",
    "\n",
    "fig = plt.figure(figsize = (5, 5))\n",
    "\n",
    "ax = plt.subplot(111)\n",
    "ax.bar(key_br, val_br, width=0.5,edgecolor = \"black\", color ='cyan')\n",
    "ax.bar(key_br1, val_br1,width=0.5, edgecolor = \"black\", color ='green')\n",
    "\n",
    "\n",
    "plt.xlabel(\"Evaluation Metrics\",fontweight=\"bold\" )\n",
    "plt.ylabel(\"Values\", fontweight=\"bold\")\n",
    "plt.title(\"Bagging Regrssor Algorithm\", fontweight=\"bold\")\n",
    "plt.show()"
   ]
  },
  {
   "cell_type": "markdown",
   "id": "d0986991",
   "metadata": {
    "id": "OVJ1QhmT0SCD"
   },
   "source": [
    "# Extra trees\n"
   ]
  },
  {
   "cell_type": "code",
   "execution_count": 35,
   "id": "448c9dbb",
   "metadata": {
    "id": "VcTEeZ-g0SCE"
   },
   "outputs": [],
   "source": [
    "from sklearn.ensemble import ExtraTreesRegressor\n",
    "\n",
    "etr = ExtraTreesRegressor(n_estimators=10)\n",
    "\n",
    "etr.fit(X_train, y_train)\n",
    "y_pred = etr.predict(X_test)"
   ]
  },
  {
   "cell_type": "code",
   "execution_count": 36,
   "id": "50b4cc9d",
   "metadata": {
    "id": "jS_h6SMU0SCE",
    "outputId": "eff7e374-7373-4a67-e6f6-0906edd3f93a"
   },
   "outputs": [
    {
     "data": {
      "text/plain": [
       "array([0.2938964, 0.2938964, 0.2938964])"
      ]
     },
     "execution_count": 36,
     "metadata": {},
     "output_type": "execute_result"
    }
   ],
   "source": [
    "etr.predict(val)"
   ]
  },
  {
   "cell_type": "code",
   "execution_count": 37,
   "id": "5381981a",
   "metadata": {
    "id": "Q0tc98FA0SCE",
    "outputId": "91b5e1a6-a860-4c31-bf26-6cdf7cb200c5"
   },
   "outputs": [
    {
     "name": "stdout",
     "output_type": "stream",
     "text": [
      "Mean Absolute Error: 0.08375342158152846\n",
      "Mean Squared Error: 0.032602516105494986\n",
      "R2 Score: -0.2670966013217362\n",
      "Root mean square error: 0.18056166842797777\n"
     ]
    }
   ],
   "source": [
    "mae_etr = mean_absolute_error(y_test, y_pred)\n",
    "mse_etr = mean_squared_error(y_test, y_pred)\n",
    "r2_etr = r2_score(y_test, y_pred)\n",
    "rmse_etr = sqrt(mean_squared_error(y_test, y_pred))\n",
    "\n",
    "print('Mean Absolute Error:', mae_etr)  \n",
    "print('Mean Squared Error:',mse_etr)\n",
    "print('R2 Score:', r2_etr)  \n",
    "print('Root mean square error:',  rmse_etr)"
   ]
  },
  {
   "cell_type": "code",
   "execution_count": 38,
   "id": "6c4a896a",
   "metadata": {
    "id": "_QH6WCKz0SCE",
    "outputId": "ac74df74-39f5-43e3-a7f6-4a8831514ed6"
   },
   "outputs": [
    {
     "data": {
      "image/png": "[encoded data removed]",
      "text/plain": [
       "<Figure size 360x360 with 1 Axes>"
      ]
     },
     "metadata": {
      "needs_background": "light"
     },
     "output_type": "display_data"
    }
   ],
   "source": [
    "import matplotlib.pyplot as plt\n",
    " \n",
    "data ={'MAE':mae_etr, 'MSE':mse_etr, 'R2 Score': 0, 'RMSE': rmse_etr}\n",
    "data1 ={'MAE':0, 'MSE':0, 'R2 Score': r2_etr, 'RMSE':0}\n",
    "key_etr = list(data.keys())\n",
    "val_etr = list(data.values())\n",
    "key_etr1 = list(data1.keys())\n",
    "val_etr1 = list(data1.values())\n",
    "\n",
    "fig = plt.figure(figsize = (5, 5))\n",
    "\n",
    "ax = plt.subplot(111)\n",
    "ax.bar(key_etr, val_etr, width=0.5,edgecolor = \"black\", color ='cyan')\n",
    "ax.bar(key_etr1, val_etr1,width=0.5, edgecolor = \"black\", color ='green')\n",
    "\n",
    "plt.xlabel(\"Evaluation Metrics\",fontweight=\"bold\" )\n",
    "plt.ylabel(\"Values\", fontweight=\"bold\")\n",
    "plt.title(\"Extra Tree Algorithm\", fontweight=\"bold\")\n",
    "plt.show()"
   ]
  },
  {
   "cell_type": "markdown",
   "id": "e5fdc1b2",
   "metadata": {
    "id": "YZ4lbMwY0SCE"
   },
   "source": [
    "# Ada Boost"
   ]
  },
  {
   "cell_type": "code",
   "execution_count": 39,
   "id": "cffca0c2",
   "metadata": {
    "id": "aFEpdrtb0SCE"
   },
   "outputs": [
    {
     "name": "stdout",
     "output_type": "stream",
     "text": [
      "1.0\n"
     ]
    }
   ],
   "source": [
    "from sklearn.ensemble import AdaBoostRegressor\n",
    "ad  = AdaBoostRegressor(n_estimators=40, random_state=2, learning_rate=3.0)\n",
    "\n",
    "\n",
    "ad.fit(X_train, y_train)\n",
    "y_pred = ad.predict(X_test)\n",
    "\n",
    "acc=  ad.score(X_test, y_pred)\n",
    "print(acc)"
   ]
  },
  {
   "cell_type": "code",
   "execution_count": 40,
   "id": "4bc5ba57",
   "metadata": {
    "id": "Gv_Y8Rv40SCE",
    "outputId": "67c1b453-c35a-4c3b-afb3-391f7ea91280"
   },
   "outputs": [
    {
     "data": {
      "text/plain": [
       "array([0.51380649, 0.51380649, 0.51380649])"
      ]
     },
     "execution_count": 40,
     "metadata": {},
     "output_type": "execute_result"
    }
   ],
   "source": [
    "ad.predict(val)"
   ]
  },
  {
   "cell_type": "code",
   "execution_count": 41,
   "id": "1e0ec3ff",
   "metadata": {
    "id": "WBmbYnyl0SCF",
    "outputId": "6cd5e538-3b9a-4f2f-cba9-4e3bd08afd0d"
   },
   "outputs": [
    {
     "name": "stdout",
     "output_type": "stream",
     "text": [
      "Mean Absolute Error: 0.09173612896612764\n",
      "Mean Squared Error: 0.024886790593134252\n",
      "R2 Score: 0.03277502643265984\n",
      "Root mean square error: 0.15775547722071095\n"
     ]
    }
   ],
   "source": [
    "mae_ada = mean_absolute_error(y_test, y_pred)\n",
    "mse_ada = mean_squared_error(y_test, y_pred)\n",
    "r2_ada = r2_score(y_test, y_pred)\n",
    "rmse_ada = sqrt(mean_squared_error(y_test, y_pred))\n",
    "\n",
    "print('Mean Absolute Error:', mae_ada)  \n",
    "print('Mean Squared Error:',mse_ada)\n",
    "print('R2 Score:', r2_ada)  \n",
    "print('Root mean square error:',  rmse_ada)"
   ]
  },
  {
   "cell_type": "code",
   "execution_count": 42,
   "id": "0c10b1c9",
   "metadata": {
    "id": "eRXjz4xO0SCF",
    "outputId": "5db7ded8-029d-4074-8a62-dc5c91ede7b2"
   },
   "outputs": [
    {
     "data": {
      "image/png": "[encoded data removed]",
      "text/plain": [
       "<Figure size 360x360 with 1 Axes>"
      ]
     },
     "metadata": {
      "needs_background": "light"
     },
     "output_type": "display_data"
    }
   ],
   "source": [
    "import matplotlib.pyplot as plt\n",
    " \n",
    "data ={'MAE':mae_ada, 'MSE':mse_ada, 'R2 Score': r2_ada, 'RMSE': rmse_ada}\n",
    "data1 ={'MAE':0, 'MSE':0, 'R2 Score': r2_ada, 'RMSE': 0}\n",
    "key_ada = list(data.keys())\n",
    "val_ada = list(data.values())\n",
    "\n",
    "fig = plt.figure(figsize = (5, 5))\n",
    "\n",
    "ax = plt.subplot(111)\n",
    "ax.bar(key_ada, val_ada, width=0.5,edgecolor = \"black\", color ='cyan')\n",
    "\n",
    "plt.xlabel(\"Evaluation Metrics\",fontweight=\"bold\" )\n",
    "plt.ylabel(\"Values\", fontweight=\"bold\")\n",
    "plt.title(\"AdaBoost Algorithm\", fontweight=\"bold\")\n",
    "plt.show()"
   ]
  },
  {
   "cell_type": "markdown",
   "id": "814ec239",
   "metadata": {
    "id": "i--d9PJO0SCF"
   },
   "source": [
    "# Neural Network"
   ]
  },
  {
   "cell_type": "code",
   "execution_count": 43,
   "id": "a0b69fc3",
   "metadata": {},
   "outputs": [
    {
     "name": "stdout",
     "output_type": "stream",
     "text": [
      "1.0\n"
     ]
    }
   ],
   "source": [
    "from sklearn.neural_network import MLPRegressor\n",
    "nn= MLPRegressor(random_state=6,  max_iter=260)\n",
    "\n",
    "sc=MinMaxScaler()\n",
    "X_train_norm = sc.fit_transform(X_train)\n",
    "X_test_norm = sc.transform(X_test)\n",
    "\n",
    "nn.fit(X_train_norm, y_train)\n",
    "y_pred = nn.predict(X_test_norm)\n",
    "\n",
    "acc=  nn.score(X_test_norm, y_pred)\n",
    "print(acc)"
   ]
  },
  {
   "cell_type": "code",
   "execution_count": 44,
   "id": "19f1c623",
   "metadata": {},
   "outputs": [
    {
     "data": {
      "text/plain": [
       "array([-3.97315877, -3.38168961, -2.98925155])"
      ]
     },
     "execution_count": 44,
     "metadata": {},
     "output_type": "execute_result"
    }
   ],
   "source": [
    "nn.predict(val)"
   ]
  },
  {
   "cell_type": "code",
   "execution_count": 45,
   "id": "8f2a0b52",
   "metadata": {},
   "outputs": [
    {
     "name": "stdout",
     "output_type": "stream",
     "text": [
      "Mean Squared Error: 0.026974129491833303\n",
      "Mean Absolute Error: 0.09113690420572007\n",
      "R2 Score: -0.04834938788524146\n",
      "Root mean square error: 0.16423802693600925\n"
     ]
    }
   ],
   "source": [
    "mae_nn = mean_absolute_error(y_test, y_pred)\n",
    "mse_nn = mean_squared_error(y_test, y_pred)\n",
    "r2_nn = r2_score(y_test, y_pred)\n",
    "rmse_nn = sqrt(mean_squared_error(y_test, y_pred))\n",
    "\n",
    "print('Mean Squared Error:',mse_nn)\n",
    "print('Mean Absolute Error:', mae_nn)  \n",
    "print('R2 Score:', r2_nn)  \n",
    "print('Root mean square error:',  rmse_nn)"
   ]
  },
  {
   "cell_type": "code",
   "execution_count": 46,
   "id": "cf3988d7",
   "metadata": {},
   "outputs": [
    {
     "data": {
      "image/png": "[encoded data removed]",
      "text/plain": [
       "<Figure size 360x360 with 1 Axes>"
      ]
     },
     "metadata": {
      "needs_background": "light"
     },
     "output_type": "display_data"
    }
   ],
   "source": [
    "import matplotlib.pyplot as plt\n",
    " \n",
    "\n",
    "data ={'MAE':mae_nn, 'MSE':mse_nn, 'R2 Score': 0, 'RMSE': rmse_nn}\n",
    "data1 ={'MAE':0, 'MSE':0, 'R2 Score': r2_nn, 'RMSE':0}\n",
    "key_nn = list(data.keys())\n",
    "val_nn = list(data.values())\n",
    "key_nn1 = list(data1.keys())\n",
    "val_nn1 = list(data1.values())\n",
    "\n",
    "fig = plt.figure(figsize = (5, 5))\n",
    "\n",
    "ax = plt.subplot(111)\n",
    "ax.bar(key_nn, val_nn, width=0.5,edgecolor = \"black\", color ='cyan')\n",
    "ax.bar(key_nn1,val_nn1,width=0.5, edgecolor=\"black\", color ='green')\n",
    "\n",
    "plt.xlabel(\"Evaluation Metrics\",fontweight=\"bold\" )\n",
    "plt.ylabel(\"Values\", fontweight=\"bold\")\n",
    "plt.title(\"Neural Network Algorithm\", fontweight=\"bold\")\n",
    "plt.show()"
   ]
  },
  {
   "cell_type": "code",
   "execution_count": null,
   "id": "438b1bcd",
   "metadata": {},
   "outputs": [],
   "source": []
  }
 ],
 "metadata": {
  "colab": {
   "provenance": []
  },
  "kernelspec": {
   "display_name": "Python 3 (ipykernel)",
   "language": "python",
   "name": "python3"
  },
  "language_info": {
   "codemirror_mode": {
    "name": "ipython",
    "version": 3
   },
   "file_extension": ".py",
   "mimetype": "text/x-python",
   "name": "python",
   "nbconvert_exporter": "python",
   "pygments_lexer": "ipython3",
   "version": "3.10.9"
  }
 },
 "nbformat": 4,
 "nbformat_minor": 5
}
