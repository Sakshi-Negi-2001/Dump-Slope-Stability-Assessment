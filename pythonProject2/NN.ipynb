{
 "cells": [
  {
   "cell_type": "code",
   "execution_count": 81,
   "id": "9720c2a1",
   "metadata": {},
   "outputs": [],
   "source": [
    "import pandas as pd\n",
    "from sklearn.model_selection import train_test_split\n",
    "from sklearn.metrics import mean_squared_log_error, mean_squared_error\n",
    "from sklearn.metrics import r2_score, mean_absolute_error\n",
    "from math import sqrt\n",
    "from sklearn.preprocessing import MinMaxScaler\n",
    "import numpy as np"
   ]
  },
  {
   "cell_type": "code",
   "execution_count": 82,
   "id": "c5065a03",
   "metadata": {},
   "outputs": [],
   "source": [
    "val = pd.read_csv(\"C:\\\\Users\\joy01\\Downloads\\Vall.csv\",encoding= 'unicode_escape')\n",
    "data2 = pd.read_csv(\"C:\\\\Users\\joy01\\Downloads\\Static4.csv\",encoding= 'unicode_escape')"
   ]
  },
  {
   "cell_type": "code",
   "execution_count": 83,
   "id": "7306cf57",
   "metadata": {
    "scrolled": true
   },
   "outputs": [
    {
     "data": {
      "text/plain": [
       "DAS        0.491471\n",
       "FOS        0.294243\n",
       "ODH        0.256930\n",
       "Density    0.154584\n",
       "CO         0.041578\n",
       "FA         0.020256\n",
       "dtype: float64"
      ]
     },
     "execution_count": 83,
     "metadata": {},
     "output_type": "execute_result"
    }
   ],
   "source": [
    "data2.describe()\n",
    "data2.isnull().sum().sort_values(ascending=False)/data2.shape[0]"
   ]
  },
  {
   "cell_type": "code",
   "execution_count": 84,
   "id": "b7d4dae9",
   "metadata": {},
   "outputs": [
    {
     "data": {
      "text/html": [
       "<div>\n",
       "<style scoped>\n",
       "    .dataframe tbody tr th:only-of-type {\n",
       "        vertical-align: middle;\n",
       "    }\n",
       "\n",
       "    .dataframe tbody tr th {\n",
       "        vertical-align: top;\n",
       "    }\n",
       "\n",
       "    .dataframe thead th {\n",
       "        text-align: right;\n",
       "    }\n",
       "</style>\n",
       "<table border=\"1\" class=\"dataframe\">\n",
       "  <thead>\n",
       "    <tr style=\"text-align: right;\">\n",
       "      <th></th>\n",
       "      <th>Density</th>\n",
       "      <th>CO</th>\n",
       "      <th>FA</th>\n",
       "      <th>ODH</th>\n",
       "      <th>DAS</th>\n",
       "      <th>FOS</th>\n",
       "    </tr>\n",
       "  </thead>\n",
       "  <tbody>\n",
       "    <tr>\n",
       "      <th>0</th>\n",
       "      <td>1800</td>\n",
       "      <td>10.0</td>\n",
       "      <td>20.0</td>\n",
       "      <td>60.0</td>\n",
       "      <td>38.0</td>\n",
       "      <td>1.64</td>\n",
       "    </tr>\n",
       "    <tr>\n",
       "      <th>1</th>\n",
       "      <td>1800</td>\n",
       "      <td>20.0</td>\n",
       "      <td>20.0</td>\n",
       "      <td>60.0</td>\n",
       "      <td>38.0</td>\n",
       "      <td>1.65</td>\n",
       "    </tr>\n",
       "    <tr>\n",
       "      <th>2</th>\n",
       "      <td>1800</td>\n",
       "      <td>30.0</td>\n",
       "      <td>20.0</td>\n",
       "      <td>60.0</td>\n",
       "      <td>38.0</td>\n",
       "      <td>1.69</td>\n",
       "    </tr>\n",
       "    <tr>\n",
       "      <th>3</th>\n",
       "      <td>1800</td>\n",
       "      <td>10.0</td>\n",
       "      <td>25.0</td>\n",
       "      <td>60.0</td>\n",
       "      <td>38.0</td>\n",
       "      <td>1.65</td>\n",
       "    </tr>\n",
       "    <tr>\n",
       "      <th>4</th>\n",
       "      <td>1800</td>\n",
       "      <td>20.0</td>\n",
       "      <td>25.0</td>\n",
       "      <td>60.0</td>\n",
       "      <td>38.0</td>\n",
       "      <td>1.69</td>\n",
       "    </tr>\n",
       "  </tbody>\n",
       "</table>\n",
       "</div>"
      ],
      "text/plain": [
       "  Density    CO    FA   ODH   DAS   FOS\n",
       "0    1800  10.0  20.0  60.0  38.0  1.64\n",
       "1    1800  20.0  20.0  60.0  38.0  1.65\n",
       "2    1800  30.0  20.0  60.0  38.0  1.69\n",
       "3    1800  10.0  25.0  60.0  38.0  1.65\n",
       "4    1800  20.0  25.0  60.0  38.0  1.69"
      ]
     },
     "execution_count": 84,
     "metadata": {},
     "output_type": "execute_result"
    }
   ],
   "source": [
    "data2.head()"
   ]
  },
  {
   "cell_type": "code",
   "execution_count": 85,
   "id": "4fe1e55b",
   "metadata": {},
   "outputs": [
    {
     "data": {
      "text/plain": [
       "938"
      ]
     },
     "execution_count": 85,
     "metadata": {},
     "output_type": "execute_result"
    }
   ],
   "source": [
    "len(data2)"
   ]
  },
  {
   "cell_type": "code",
   "execution_count": 86,
   "id": "a7d149c6",
   "metadata": {},
   "outputs": [
    {
     "data": {
      "text/plain": [
       "0      1800\n",
       "1      1800\n",
       "2      1800\n",
       "3      1800\n",
       "4      1800\n",
       "       ... \n",
       "933    2243\n",
       "934     NaN\n",
       "935     NaN\n",
       "936     NaN\n",
       "937        \n",
       "Name: Density, Length: 938, dtype: object"
      ]
     },
     "execution_count": 86,
     "metadata": {},
     "output_type": "execute_result"
    }
   ],
   "source": [
    "data2['Density'][:938]"
   ]
  },
  {
   "cell_type": "code",
   "execution_count": 87,
   "id": "d6ac4e39",
   "metadata": {},
   "outputs": [
    {
     "name": "stdout",
     "output_type": "stream",
     "text": [
      "<class 'pandas.core.frame.DataFrame'>\n",
      "RangeIndex: 938 entries, 0 to 937\n",
      "Data columns (total 6 columns):\n",
      " #   Column   Non-Null Count  Dtype  \n",
      "---  ------   --------------  -----  \n",
      " 0   Density  792 non-null    float64\n",
      " 1   CO       899 non-null    float64\n",
      " 2   FA       919 non-null    float64\n",
      " 3   ODH      697 non-null    float64\n",
      " 4   DAS      477 non-null    float64\n",
      " 5   FOS      662 non-null    float64\n",
      "dtypes: float64(6)\n",
      "memory usage: 44.1 KB\n",
      "None\n"
     ]
    }
   ],
   "source": [
    "data2['Density'] = pd.to_numeric(data2['Density'],errors = 'coerce')\n",
    "print(data2.info())"
   ]
  },
  {
   "cell_type": "code",
   "execution_count": 88,
   "id": "b9a4f17d",
   "metadata": {},
   "outputs": [
    {
     "name": "stdout",
     "output_type": "stream",
     "text": [
      "0      1800.000000\n",
      "1      1800.000000\n",
      "2      1800.000000\n",
      "3      1800.000000\n",
      "4      1800.000000\n",
      "          ...     \n",
      "933    2243.000000\n",
      "934    1760.529457\n",
      "935    1760.529457\n",
      "936    1760.529457\n",
      "937    1760.529457\n",
      "Name: Density, Length: 938, dtype: float64\n"
     ]
    }
   ],
   "source": [
    "data2['Density'] =data2['Density'].replace(np.NaN, data2['Density'].mean())\n",
    "print(data2['Density'])"
   ]
  },
  {
   "cell_type": "code",
   "execution_count": 89,
   "id": "95a17a21",
   "metadata": {},
   "outputs": [],
   "source": [
    "data2['CO'] =data2['CO'].replace(np.NaN, data2['CO'].mean())"
   ]
  },
  {
   "cell_type": "code",
   "execution_count": 90,
   "id": "0e5aaf5d",
   "metadata": {},
   "outputs": [],
   "source": [
    "data2['FA'] =data2['FA'].replace(np.NaN, data2['FA'].mean())"
   ]
  },
  {
   "cell_type": "code",
   "execution_count": 91,
   "id": "e552b6ff",
   "metadata": {},
   "outputs": [],
   "source": [
    "data2['ODH'] =data2['ODH'].replace(np.NaN, data2['ODH'].mean())"
   ]
  },
  {
   "cell_type": "code",
   "execution_count": 92,
   "id": "f677e722",
   "metadata": {},
   "outputs": [],
   "source": [
    "data2['DAS'] =data2['DAS'].replace(np.NaN, data2['DAS'].mean())"
   ]
  },
  {
   "cell_type": "code",
   "execution_count": 93,
   "id": "f8876d02",
   "metadata": {},
   "outputs": [],
   "source": [
    "data2['FOS'] =data2['FOS'].replace(np.NaN, data2['FOS'].mean())"
   ]
  },
  {
   "cell_type": "code",
   "execution_count": 94,
   "id": "65c06c2e",
   "metadata": {},
   "outputs": [
    {
     "data": {
      "text/html": [
       "<div>\n",
       "<style scoped>\n",
       "    .dataframe tbody tr th:only-of-type {\n",
       "        vertical-align: middle;\n",
       "    }\n",
       "\n",
       "    .dataframe tbody tr th {\n",
       "        vertical-align: top;\n",
       "    }\n",
       "\n",
       "    .dataframe thead th {\n",
       "        text-align: right;\n",
       "    }\n",
       "</style>\n",
       "<table border=\"1\" class=\"dataframe\">\n",
       "  <thead>\n",
       "    <tr style=\"text-align: right;\">\n",
       "      <th></th>\n",
       "      <th>Density</th>\n",
       "      <th>CO</th>\n",
       "      <th>FA</th>\n",
       "      <th>ODH</th>\n",
       "      <th>DAS</th>\n",
       "      <th>FOS</th>\n",
       "    </tr>\n",
       "  </thead>\n",
       "  <tbody>\n",
       "    <tr>\n",
       "      <th>0</th>\n",
       "      <td>1800.0</td>\n",
       "      <td>10.0</td>\n",
       "      <td>20.0</td>\n",
       "      <td>60.0</td>\n",
       "      <td>38.0</td>\n",
       "      <td>1.64</td>\n",
       "    </tr>\n",
       "    <tr>\n",
       "      <th>1</th>\n",
       "      <td>1800.0</td>\n",
       "      <td>20.0</td>\n",
       "      <td>20.0</td>\n",
       "      <td>60.0</td>\n",
       "      <td>38.0</td>\n",
       "      <td>1.65</td>\n",
       "    </tr>\n",
       "    <tr>\n",
       "      <th>2</th>\n",
       "      <td>1800.0</td>\n",
       "      <td>30.0</td>\n",
       "      <td>20.0</td>\n",
       "      <td>60.0</td>\n",
       "      <td>38.0</td>\n",
       "      <td>1.69</td>\n",
       "    </tr>\n",
       "    <tr>\n",
       "      <th>3</th>\n",
       "      <td>1800.0</td>\n",
       "      <td>10.0</td>\n",
       "      <td>25.0</td>\n",
       "      <td>60.0</td>\n",
       "      <td>38.0</td>\n",
       "      <td>1.65</td>\n",
       "    </tr>\n",
       "    <tr>\n",
       "      <th>4</th>\n",
       "      <td>1800.0</td>\n",
       "      <td>20.0</td>\n",
       "      <td>25.0</td>\n",
       "      <td>60.0</td>\n",
       "      <td>38.0</td>\n",
       "      <td>1.69</td>\n",
       "    </tr>\n",
       "    <tr>\n",
       "      <th>5</th>\n",
       "      <td>1800.0</td>\n",
       "      <td>30.0</td>\n",
       "      <td>25.0</td>\n",
       "      <td>60.0</td>\n",
       "      <td>38.0</td>\n",
       "      <td>1.69</td>\n",
       "    </tr>\n",
       "    <tr>\n",
       "      <th>6</th>\n",
       "      <td>1800.0</td>\n",
       "      <td>10.0</td>\n",
       "      <td>29.0</td>\n",
       "      <td>60.0</td>\n",
       "      <td>38.0</td>\n",
       "      <td>1.69</td>\n",
       "    </tr>\n",
       "    <tr>\n",
       "      <th>7</th>\n",
       "      <td>1800.0</td>\n",
       "      <td>20.0</td>\n",
       "      <td>29.0</td>\n",
       "      <td>60.0</td>\n",
       "      <td>38.0</td>\n",
       "      <td>1.69</td>\n",
       "    </tr>\n",
       "    <tr>\n",
       "      <th>8</th>\n",
       "      <td>1800.0</td>\n",
       "      <td>30.0</td>\n",
       "      <td>29.0</td>\n",
       "      <td>60.0</td>\n",
       "      <td>38.0</td>\n",
       "      <td>1.69</td>\n",
       "    </tr>\n",
       "    <tr>\n",
       "      <th>9</th>\n",
       "      <td>1800.0</td>\n",
       "      <td>10.0</td>\n",
       "      <td>20.0</td>\n",
       "      <td>90.0</td>\n",
       "      <td>38.0</td>\n",
       "      <td>1.56</td>\n",
       "    </tr>\n",
       "  </tbody>\n",
       "</table>\n",
       "</div>"
      ],
      "text/plain": [
       "   Density    CO    FA   ODH   DAS   FOS\n",
       "0   1800.0  10.0  20.0  60.0  38.0  1.64\n",
       "1   1800.0  20.0  20.0  60.0  38.0  1.65\n",
       "2   1800.0  30.0  20.0  60.0  38.0  1.69\n",
       "3   1800.0  10.0  25.0  60.0  38.0  1.65\n",
       "4   1800.0  20.0  25.0  60.0  38.0  1.69\n",
       "5   1800.0  30.0  25.0  60.0  38.0  1.69\n",
       "6   1800.0  10.0  29.0  60.0  38.0  1.69\n",
       "7   1800.0  20.0  29.0  60.0  38.0  1.69\n",
       "8   1800.0  30.0  29.0  60.0  38.0  1.69\n",
       "9   1800.0  10.0  20.0  90.0  38.0  1.56"
      ]
     },
     "execution_count": 94,
     "metadata": {},
     "output_type": "execute_result"
    }
   ],
   "source": [
    "data2.iloc[0:,:6].head(10)"
   ]
  },
  {
   "cell_type": "code",
   "execution_count": 95,
   "id": "477e79ec",
   "metadata": {},
   "outputs": [],
   "source": [
    "data2.drop(data2.iloc[:, 6:], inplace=True, axis=1)"
   ]
  },
  {
   "cell_type": "code",
   "execution_count": 96,
   "id": "3dbd1eac",
   "metadata": {},
   "outputs": [
    {
     "data": {
      "text/plain": [
       "(938, 6)"
      ]
     },
     "execution_count": 96,
     "metadata": {},
     "output_type": "execute_result"
    }
   ],
   "source": [
    "data2.shape"
   ]
  },
  {
   "cell_type": "code",
   "execution_count": 97,
   "id": "3c462058",
   "metadata": {},
   "outputs": [
    {
     "data": {
      "text/plain": [
       "Density    0\n",
       "CO         0\n",
       "FA         0\n",
       "ODH        0\n",
       "DAS        0\n",
       "FOS        0\n",
       "dtype: int64"
      ]
     },
     "execution_count": 97,
     "metadata": {},
     "output_type": "execute_result"
    }
   ],
   "source": [
    "data2.isnull().sum()"
   ]
  },
  {
   "cell_type": "code",
   "execution_count": 98,
   "id": "d2555732",
   "metadata": {},
   "outputs": [],
   "source": [
    "import numpy as np\n",
    "\n",
    "labels = np.array(data2['FOS'])\n",
    "data2= data2.drop('FOS', axis = 1)\n",
    "val= val.drop('FOS', axis=1)\n",
    "feature_list = list(data2.columns)\n",
    "data2 = np.array(data2)"
   ]
  },
  {
   "cell_type": "code",
   "execution_count": 101,
   "id": "1475612b",
   "metadata": {},
   "outputs": [
    {
     "name": "stdout",
     "output_type": "stream",
     "text": [
      "(703, 5) (703,)\n",
      "(235, 5) (235,)\n"
     ]
    }
   ],
   "source": [
    "X_train, X_test, y_train, y_test = train_test_split(data2, labels, test_size=0.25)\n",
    "print (X_train.shape, y_train.shape)\n",
    "print (X_test.shape, y_test.shape)"
   ]
  },
  {
   "cell_type": "markdown",
   "id": "234c400d",
   "metadata": {},
   "source": [
    "# Neural Network(impt)"
   ]
  },
  {
   "cell_type": "code",
   "execution_count": 56,
   "id": "4e7ce7e2",
   "metadata": {},
   "outputs": [
    {
     "name": "stderr",
     "output_type": "stream",
     "text": [
      "C:\\Users\\joy01\\AppData\\Roaming\\Python\\Python39\\site-packages\\sklearn\\neural_network\\_multilayer_perceptron.py:684: ConvergenceWarning: Stochastic Optimizer: Maximum iterations (84) reached and the optimization hasn't converged yet.\n",
      "  warnings.warn(\n"
     ]
    }
   ],
   "source": [
    "from sklearn.neural_network import MLPRegressor\n",
    "nn= MLPRegressor(random_state=5,  max_iter=84)\n",
    "\n",
    "sc=MinMaxScaler()\n",
    "X_train_norm = sc.fit_transform(X_train)\n",
    "X_test_norm = sc.transform(X_test)\n",
    "\n",
    "nn.fit(X_train, y_train)\n",
    "y_pred = nn.predict(X_test)"
   ]
  },
  {
   "cell_type": "code",
   "execution_count": 57,
   "id": "2a14d744",
   "metadata": {},
   "outputs": [
    {
     "name": "stderr",
     "output_type": "stream",
     "text": [
      "C:\\Users\\joy01\\AppData\\Roaming\\Python\\Python39\\site-packages\\sklearn\\base.py:413: UserWarning: X has feature names, but MLPRegressor was fitted without feature names\n",
      "  warnings.warn(\n"
     ]
    },
    {
     "data": {
      "text/plain": [
       "array([0.80087363, 1.23912805, 1.95770733])"
      ]
     },
     "execution_count": 57,
     "metadata": {},
     "output_type": "execute_result"
    }
   ],
   "source": [
    "nn.predict(val)"
   ]
  },
  {
   "cell_type": "code",
   "execution_count": 78,
   "id": "15a8742f",
   "metadata": {},
   "outputs": [
    {
     "name": "stdout",
     "output_type": "stream",
     "text": [
      "-0.38877680884918187\n"
     ]
    }
   ],
   "source": [
    "acc=  nn.score(X_test, y_test)\n",
    "print(acc)"
   ]
  },
  {
   "cell_type": "code",
   "execution_count": 59,
   "id": "3641eba6",
   "metadata": {},
   "outputs": [
    {
     "name": "stdout",
     "output_type": "stream",
     "text": [
      "Mean Squared Error: 1.864273602935251\n",
      "Mean Absolute Error: 0.8675461597647439\n",
      "R2 Score: -0.38877680884918187\n",
      "Root mean square error: 1.3653840496121414\n"
     ]
    }
   ],
   "source": [
    "mae_nn = mean_absolute_error(y_test, y_pred)\n",
    "mse_nn = mean_squared_error(y_test, y_pred)\n",
    "r2_nn = r2_score(y_test, y_pred)\n",
    "rmse_nn = sqrt(mean_squared_error(y_test, y_pred))\n",
    "\n",
    "print('Mean Squared Error:',mse_nn)\n",
    "print('Mean Absolute Error:', mae_nn)  \n",
    "print('R2 Score:', r2_nn)  \n",
    "print('Root mean square error:',  rmse_nn)"
   ]
  },
  {
   "cell_type": "code",
   "execution_count": 61,
   "id": "410316bb",
   "metadata": {},
   "outputs": [
    {
     "data": {
      "image/png": "[encoded data removed]",
      "text/plain": [
       "<Figure size 500x500 with 1 Axes>"
      ]
     },
     "metadata": {},
     "output_type": "display_data"
    }
   ],
   "source": [
    "import matplotlib.pyplot as plt\n",
    " \n",
    "\n",
    "data ={'MAE':mae_nn, 'MSE':mse_nn, 'R2 Score': 0, 'RMSE': rmse_nn}\n",
    "data1 ={'MAE':0, 'MSE':0, 'R2 Score': r2_nn, 'RMSE':0}\n",
    "key_nn = list(data.keys())\n",
    "val_nn = list(data.values())\n",
    "key_nn1 = list(data1.keys())\n",
    "val_nn1 = list(data1.values())\n",
    "\n",
    "fig = plt.figure(figsize = (5, 5))\n",
    "\n",
    "ax = plt.subplot(111)\n",
    "ax.bar(key_nn, val_nn, width=0.5,edgecolor = \"black\", color ='cyan')\n",
    "ax.bar(key_nn1,val_nn1,width=0.5, edgecolor=\"black\", color ='green')\n",
    "\n",
    "plt.xlabel(\"Evaluation Metrics\",fontweight=\"bold\" )\n",
    "plt.ylabel(\"Values\", fontweight=\"bold\")\n",
    "plt.title(\"Neural Network Algorithm\", fontweight=\"bold\")\n",
    "plt.show()"
   ]
  }
 ],
 "metadata": {
  "kernelspec": {
   "display_name": "Python 3 (ipykernel)",
   "language": "python",
   "name": "python3"
  },
  "language_info": {
   "codemirror_mode": {
    "name": "ipython",
    "version": 3
   },
   "file_extension": ".py",
   "mimetype": "text/x-python",
   "name": "python",
   "nbconvert_exporter": "python",
   "pygments_lexer": "ipython3",
   "version": "3.9.13"
  }
 },
 "nbformat": 4,
 "nbformat_minor": 5
}
